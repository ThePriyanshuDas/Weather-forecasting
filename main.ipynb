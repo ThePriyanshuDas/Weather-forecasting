{
 "cells": [
  {
   "cell_type": "markdown",
   "id": "850df619-5897-4a34-8b95-5c54149755ac",
   "metadata": {},
   "source": [
    "***Import libraries***"
   ]
  },
  {
   "cell_type": "code",
   "execution_count": 85,
   "id": "0efcf4fa-e066-4552-bb1f-3ab8d4354d03",
   "metadata": {},
   "outputs": [],
   "source": [
    "import requests  #This library helps us to fetch data from APIs\n",
    "import pandas as pd  #For handling and analysing data\n",
    "import numpy as np  #For numerical operation\n",
    "from sklearn.model_selection import train_test_split  #To split data into training and testing set\n",
    "from sklearn.preprocessing import LabelEncoder  #To convert categerical data into numerical values\n",
    "from sklearn.ensemble import RandomForestClassifier, RandomForestRegressor  #Models for classification and regression tasks\n",
    "from sklearn.metrics import mean_squared_error #To measure the accuracy of our predictions\n",
    "from datetime import datetime, timedelta  #to handle date and time\n",
    "import pytz"
   ]
  },
  {
   "cell_type": "code",
   "execution_count": 86,
   "id": "a3474735-c649-4e8e-b249-2c4642dc7385",
   "metadata": {},
   "outputs": [],
   "source": [
    "API_KEY = 'bf54f4fcac53c1311ce7c5286e2de287'\n",
    "BASE_URL = 'https://api.openweathermap.org/data/2.5/'  #Base url for making api request"
   ]
  },
  {
   "cell_type": "code",
   "execution_count": 87,
   "id": "b99ea008-5799-4cdb-ae66-3599757c38c8",
   "metadata": {},
   "outputs": [],
   "source": [
    "def get_current_weather(city):\n",
    "    url = f\"{BASE_URL}weather?q={city}&appid={API_KEY}&units=metrics\"\n",
    "    response = requests.get(url)  #send the get request to API\n",
    "    data = response.json()\n",
    "    return {\n",
    "        'city': data['name'],\n",
    "        'current_temp': round(data['main']['temp']),\n",
    "        'feels_like': round(data['main']['feels_like']),\n",
    "        'temp_min': round(data['main']['temp_min']),\n",
    "        'temp_max': round(data['main']['temp_max']),\n",
    "        'humidity': round(data['main']['humidity']),\n",
    "        'description': data['weather'][0]['description'],\n",
    "        'country': data['sys']['country'],\n",
    "        'wind_gust_dir': data['wind']['deg'],\n",
    "        'pressure': data['main']['pressure'],\n",
    "        'Wind_Gust_Speed': data['wind']['speed']\n",
    "    }"
   ]
  },
  {
   "cell_type": "markdown",
   "id": "68e81090-7fff-4a1c-981b-fa7a4cd7ac85",
   "metadata": {},
   "source": [
    "**Read historical Data**"
   ]
  },
  {
   "cell_type": "code",
   "execution_count": 88,
   "id": "b2308f8a-7a4c-4ef6-a811-ba35e9349d39",
   "metadata": {},
   "outputs": [],
   "source": [
    "def read_historical_data(filename):\n",
    "    df = pd.read_csv(filename) #load csv file into dataFrame\n",
    "    df = df.dropna () #remove rows wit missing values\n",
    "    df = df.drop_duplicates()\n",
    "    return df"
   ]
  },
  {
   "cell_type": "markdown",
   "id": "1acb2ad9-e4dd-44fc-91e5-fef3d52a344d",
   "metadata": {},
   "source": [
    "**Prepare data for training**"
   ]
  },
  {
   "cell_type": "code",
   "execution_count": 89,
   "id": "1b44335f-fe2e-40f0-9bc3-2c2c0aff7cbd",
   "metadata": {},
   "outputs": [],
   "source": [
    "def prepare_data(data):\n",
    "    le= LabelEncoder() #create a LabelEncoder instance\n",
    "    data['WindGustDir'] = le.fit_transform(data['WindGustDir'])\n",
    "    data['RainTomorrow'] = le.fit_transform(data['RainTomorrow'])\n",
    "    \n",
    "    #define the feature variable and target variablesst\n",
    "    x = data[['MinTemp', 'MaxTemp', 'WindGustDir', 'WindGustSpeed', 'Humidity', 'Pressure', 'Temp']] #feature variables\n",
    "    y = data['RainTomorrow'] #target variable\n",
    "    return x, y, le #return feture variable, target variable and the label encoder"
   ]
  },
  {
   "cell_type": "markdown",
   "id": "c53e4ed4-7a4f-4317-8b9d-a0bb6cc3ba18",
   "metadata": {},
   "source": [
    "**Train rain prediction model**"
   ]
  },
  {
   "cell_type": "code",
   "execution_count": 102,
   "id": "a750de69-e31e-4546-99ab-9852c6cf134c",
   "metadata": {},
   "outputs": [],
   "source": [
    "def train_rain_model(x, y):\n",
    "    X_train, X_test, y_train, y_test = train_test_split(x, y, test_size=0.2, random_state=42)\n",
    "    model = RandomForestClassifier(n_estimators=100, random_state=42)\n",
    "    model.fit(X_train, y_train) #train the model\n",
    "    y_pred = model.predict(X_test) #to make predictions on test set\n",
    "    print(\"Mean Squared Error for Rain Model\")\n",
    "    print (mean_squared_error(y_test, y_pred))\n",
    "    return model"
   ]
  },
  {
   "cell_type": "markdown",
   "id": "7da7c897-5637-4635-9821-ed7b8776eb3f",
   "metadata": {},
   "source": [
    "**Prepare regession data**"
   ]
  },
  {
   "cell_type": "code",
   "execution_count": 119,
   "id": "97d0669b-0bf2-4448-a554-c5906e6c7c5c",
   "metadata": {},
   "outputs": [],
   "source": [
    "def prepare_regression_data(data, feature):\n",
    "    x, y = [], [] #initialize list for feature and target values\n",
    "    for i in range(len(data) - 1):\n",
    "        x.append(data[feature].iloc[i])\n",
    "        \n",
    "        y.append(data[feature].iloc[i+1])\n",
    "        \n",
    "    x = np.array(x).reshape(-1, 1)\n",
    "    y = np.array(y)\n",
    "    return x, y"
   ]
  },
  {
   "cell_type": "markdown",
   "id": "32815a1c-e715-445e-8aa4-ae61bff6ca36",
   "metadata": {},
   "source": [
    "**Train regession model**"
   ]
  },
  {
   "cell_type": "code",
   "execution_count": 120,
   "id": "891fd635-a6ff-449f-8da0-2d7a9dfc460c",
   "metadata": {},
   "outputs": [],
   "source": [
    "def train_regression_model(x, y):\n",
    "    model = RandomForestRegressor(n_estimators=100, random_state=42)\n",
    "    model.fit(x, y)\n",
    "    return model"
   ]
  },
  {
   "cell_type": "markdown",
   "id": "4dd4a482-dd4f-4f91-92e4-81d18ec420a3",
   "metadata": {},
   "source": [
    "**Predict future**"
   ]
  },
  {
   "cell_type": "code",
   "execution_count": 121,
   "id": "30a2b783-089e-4e94-88e9-6d355bf042e7",
   "metadata": {},
   "outputs": [],
   "source": [
    "def predict_future (model, current_value):\n",
    "    predictions = [current_value]\n",
    "    for i in range(5):\n",
    "        next_value = model.predict(np.array([[predictions[-1]]]))\n",
    "        predictions.append(next_value[0])\n",
    "    return predictions [1:]"
   ]
  },
  {
   "cell_type": "markdown",
   "id": "d9c30a00-0af0-4f85-8f4c-d9bd4424b95d",
   "metadata": {},
   "source": [
    "**Weather analysis function**"
   ]
  },
  {
   "cell_type": "code",
   "execution_count": 131,
   "id": "a0b4f2fa-6c6d-4833-901f-6e15b528692c",
   "metadata": {},
   "outputs": [],
   "source": [
    "def weather_view():\n",
    "    city = input('Enter any city name: ')\n",
    "    current_weather = get_current_weather(city)\n",
    "    \n",
    "    #load historical data\n",
    "    historical_data = read_historical_data('weather.csv')\n",
    "    \n",
    "    #prepae and train the rain prediction model\n",
    "    x, y, le = prepare_data(historical_data)\n",
    "    rain_model = train_rain_model(x, y)\n",
    "\n",
    "    #map wind direction to campass points\n",
    "    wind_deg = current_weather['wind_gust_dir'] % 360\n",
    "    compass_points = [\n",
    "        (\"N\", 0, 11.25), (\"NNE\", 11.25, 33.75), (\"NE\", 33.75, 56.25),\n",
    "        (\"ENE\", 56.25, 78.75), (\"E\", 78.75, 101.25), (\"ESE\", 101.25, 123.75),\n",
    "        (\"SE\", 123.75, 146.25), (\"SSE\", 146.25, 168.75), (\"S\", 168.75, 191.25),\n",
    "        (\"SSW\", 191.25, 213.75), (\"SW\", 213.75, 236.25), (\"WSW\", 236.25, 258.75),\n",
    "        (\"W\", 258.75, 281.25), (\"WNW\", 281.25, 303.75), (\"NW\", 303.75, 326.25),\n",
    "        (\"NNW\", 326.25, 348.75)\n",
    "    ]\n",
    "    compass_direction = next(point for point, start, end in compass_points if start <= wind_deg < end)\n",
    "\n",
    "    compass_direction_encoded = le.transform([compass_direction])[0] if compass_direction in le.classes_ else -1\n",
    "\n",
    "    current_data = {\n",
    "        'MinTemp': current_weather['temp_min'],\n",
    "        'MaxTemp': current_weather['temp_max'],\n",
    "        'WindGustDir': compass_direction_encoded,\n",
    "        'WindGustSpeed': current_weather ['Wind_Gust_Speed'],\n",
    "        'Humidity': current_weather['humidity'],\n",
    "        'Pressure': current_weather['pressure'],\n",
    "        'Temp': current_weather['current_temp'],\n",
    "    }\n",
    "\n",
    "    current_df = pd.DataFrame([current_data])\n",
    "\n",
    "    #rain prediction\n",
    "    rain_prediction = rain_model.predict(current_df)[0]\n",
    "    \n",
    "    #prepare regression model for temperature and humidity\n",
    "    x_temp, y_temp = prepare_regression_data(historical_data, 'Temp')\n",
    "    x_hum, y_hum = prepare_regression_data(historical_data, 'Humidity')\n",
    "    temp_model = train_regression_model(x_temp, y_temp)\n",
    "    hum_model = train_regression_model(x_hum, y_hum)\n",
    "\n",
    "    #predict future temperature and humidity\n",
    "    future_temp = predict_future(temp_model, current_weather['temp_min'])\n",
    "    future_humidity = predict_future (hum_model, current_weather['humidity'])\n",
    "    \n",
    "    #prepare time for future predictions\n",
    "    timezone = pytz.timezone ('Asia/Kolkata')\n",
    "    now = datetime.now(timezone)\n",
    "    next_hour = now + timedelta(hours=1)\n",
    "    next_hour = next_hour.replace(minute=0, second=0, microsecond=0)\n",
    "    future_times = [(next_hour + timedelta (hours=i)).strftime(\"%H:00\") for i in range(5)]\n",
    "    \n",
    "    #Display results\n",
    "    print(f\"City: {city}, {current_weather['country']}\")\n",
    "    print (f\"Current Temperature: {(current_weather['current_temp'])/10}°C\")\n",
    "    print (f\"Feels Like: {(current_weather['feels_like'])/10}°C\")\n",
    "    print (f\"Minimum Temperature: {(current_weather['temp_min'])/10}°C\")\n",
    "    print (f\"Maximum Temperature: {(current_weather['temp_max'])/10}°C\")\n",
    "    print (f\"Humidity: {current_weather['humidity']}%\")\n",
    "    print (f\"Weather Prediction: {current_weather['description']}\")\n",
    "    print(f\"Rain Prediction: {'Yes' if rain_prediction else 'No'}\")\n",
    "    \n",
    "    print(\"\\nFuture Temperature Predictions: \")\n",
    "    \n",
    "    for time, temp in zip(future_times, future_temp):\n",
    "        print(f\"{time}: {round (temp, 1)}°C\")\n",
    "        \n",
    "    print(\"\\nFuture Humidity Predictions: \")\n",
    "    \n",
    "    for time, humidity in zip(future_times, future_humidity):\n",
    "        print(f\" {time}: {round (humidity, 1)}%\")\n",
    "    "
   ]
  },
  {
   "cell_type": "code",
   "execution_count": 132,
   "id": "754284c4-20b5-46c7-b847-54ec007c23b5",
   "metadata": {},
   "outputs": [
    {
     "name": "stdin",
     "output_type": "stream",
     "text": [
      "Enter any city name:  Asansol\n"
     ]
    },
    {
     "name": "stdout",
     "output_type": "stream",
     "text": [
      "Mean Squared Error for Rain Model\n",
      "0.1506849315068493\n",
      "City: Asansol, IN\n",
      "Current Temperature: 31.3°C\n",
      "Feels Like: 31.3°C\n",
      "Minimum Temperature: 31.3°C\n",
      "Maximum Temperature: 31.3°C\n",
      "Humidity: 22%\n",
      "Weather Prediction: scattered clouds\n",
      "Rain Prediction: No\n",
      "\n",
      "Future Temperature Predictions: \n",
      "18:00: 33.1°C\n",
      "19:00: 25.1°C\n",
      "20:00: 20.1°C\n",
      "21:00: 16.6°C\n",
      "22:00: 14.4°C\n",
      "\n",
      "Future Humidity Predictions: \n",
      " 18:00: 35.1%\n",
      " 19:00: 38.4%\n",
      " 20:00: 52.3%\n",
      " 21:00: 43.4%\n",
      " 22:00: 46.8%\n"
     ]
    }
   ],
   "source": [
    "weather_view()"
   ]
  },
  {
   "cell_type": "code",
   "execution_count": null,
   "id": "cdecfbf3-64f1-4c36-84f0-59ff32f0d6e6",
   "metadata": {},
   "outputs": [],
   "source": []
  }
 ],
 "metadata": {
  "kernelspec": {
   "display_name": "Python 3 (ipykernel)",
   "language": "python",
   "name": "python3"
  },
  "language_info": {
   "codemirror_mode": {
    "name": "ipython",
    "version": 3
   },
   "file_extension": ".py",
   "mimetype": "text/x-python",
   "name": "python",
   "nbconvert_exporter": "python",
   "pygments_lexer": "ipython3",
   "version": "3.12.7"
  }
 },
 "nbformat": 4,
 "nbformat_minor": 5
}
